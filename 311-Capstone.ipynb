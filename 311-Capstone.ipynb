{
 "cells": [
  {
   "cell_type": "markdown",
   "metadata": {},
   "source": [
    "# 311 Cases\n",
    "\n",
    "### References:\n",
    "https://data.sfgov.org/City-Infrastructure/311-Cases/vw6y-z8j6\n"
   ]
  },
  {
   "cell_type": "code",
   "execution_count": 1,
   "metadata": {},
   "outputs": [],
   "source": [
    "import numpy as np\n",
    "import pandas as pd\n",
    "import matplotlib.pyplot as plt\n",
    "import seaborn as sns\n",
    "import requests\n",
    "from PIL import Image\n",
    "\n",
    "from sklearn.model_selection import ShuffleSplit\n",
    "% matplotlib inline"
   ]
  },
  {
   "cell_type": "code",
   "execution_count": null,
   "metadata": {},
   "outputs": [],
   "source": [
    "df = pd.read_csv('311_Cases.csv')"
   ]
  },
  {
   "cell_type": "code",
   "execution_count": null,
   "metadata": {},
   "outputs": [],
   "source": [
    "df.head()"
   ]
  },
  {
   "cell_type": "code",
   "execution_count": null,
   "metadata": {},
   "outputs": [],
   "source": [
    "df['Opened'] = pd.to_datetime(df['Opened'])\n",
    "df['year'] = df['Opened'].dt.year\n",
    "df['month'] = df['Opened'].dt.month"
   ]
  },
  {
   "cell_type": "code",
   "execution_count": null,
   "metadata": {},
   "outputs": [],
   "source": [
    "columns = list(df.columns)\n",
    "columns = [column.lower().replace(' ', '_') for column in columns]\n",
    "df.columns = columns"
   ]
  },
  {
   "cell_type": "code",
   "execution_count": null,
   "metadata": {},
   "outputs": [],
   "source": [
    "# Limit \n",
    "df = df.loc[(df['media_url'].isna() != True) &\n",
    "            ((df['year'] == 2017) | (df['year'] == 2018))]"
   ]
  },
  {
   "cell_type": "code",
   "execution_count": null,
   "metadata": {},
   "outputs": [],
   "source": [
    "groups_m = df.groupby(['year', 'month'])['caseid'].count()\n",
    "groups_m"
   ]
  },
  {
   "cell_type": "code",
   "execution_count": null,
   "metadata": {},
   "outputs": [],
   "source": [
    "ss = ShuffleSplit(n_splits=1, train_size=120000, random_state=0)\n",
    "\n",
    "for train_index, test_index in ss.split(df):\n",
    "    train_index = train_index"
   ]
  },
  {
   "cell_type": "code",
   "execution_count": null,
   "metadata": {},
   "outputs": [],
   "source": [
    "df_subset = df.iloc[train_index].copy(deep=True)"
   ]
  },
  {
   "cell_type": "code",
   "execution_count": null,
   "metadata": {},
   "outputs": [],
   "source": [
    "df_subset.reset_index(inplace=True, drop=True)\n",
    "df_subset.head()"
   ]
  },
  {
   "cell_type": "code",
   "execution_count": null,
   "metadata": {},
   "outputs": [],
   "source": [
    "df_subset.to_csv('selected_subset.csv')"
   ]
  },
  {
   "cell_type": "code",
   "execution_count": null,
   "metadata": {},
   "outputs": [],
   "source": [
    "groups_small = df_subset.groupby(['year', 'month'])['caseid'].count()\n",
    "print(groups_small)"
   ]
  },
  {
   "cell_type": "code",
   "execution_count": 2,
   "metadata": {},
   "outputs": [],
   "source": [
    "# Size of thumbnail image\n",
    "size = (128, 128)\n",
    "\n",
    "def get_image(df):\n",
    "    try: \n",
    "        response = requests.get(df, stream=True)\n",
    "        response.raw.decode_content = True\n",
    "        with Image.open(response.raw) as image:\n",
    "            width, height = image.size\n",
    "            # print(width, height)\n",
    "            # Crop down to 80% of size\n",
    "            image = image.crop(box=(width*.10, height*.10, width*.90, height*.90))\n",
    "            # Convert grayscale\n",
    "            image = image.convert('L')\n",
    "            image = image.resize(size)\n",
    "            #image.show()\n",
    "            np_im = np.array(image)\n",
    "            #print(np_im)\n",
    "            return np_im\n",
    "    except:\n",
    "        return np.nan"
   ]
  },
  {
   "cell_type": "code",
   "execution_count": null,
   "metadata": {},
   "outputs": [],
   "source": [
    "df_subset['image'] = np.nan"
   ]
  },
  {
   "cell_type": "code",
   "execution_count": null,
   "metadata": {},
   "outputs": [],
   "source": [
    "image1 = get_image(df_subset.iloc[4])"
   ]
  },
  {
   "cell_type": "code",
   "execution_count": null,
   "metadata": {},
   "outputs": [],
   "source": [
    "plt.imshow(image1, cmap='gray')"
   ]
  },
  {
   "cell_type": "markdown",
   "metadata": {},
   "source": [
    "## Data Selection\n",
    "- Due to computational constraints, selecting 120,000 images from 2017 and 2018"
   ]
  },
  {
   "cell_type": "code",
   "execution_count": null,
   "metadata": {},
   "outputs": [],
   "source": [
    "df_subset.head()"
   ]
  },
  {
   "cell_type": "code",
   "execution_count": null,
   "metadata": {},
   "outputs": [],
   "source": [
    "df_mini = df_subset.iloc[0:20, :]\n",
    "\n",
    "df_mini.image = df_mini.apply(get_image, axis=1)\n",
    "\n",
    "df_mini.head()"
   ]
  },
  {
   "cell_type": "code",
   "execution_count": null,
   "metadata": {},
   "outputs": [],
   "source": [
    "# Confirm image size\n",
    "df_mini.iloc[0]['image'].shape"
   ]
  },
  {
   "cell_type": "code",
   "execution_count": null,
   "metadata": {},
   "outputs": [],
   "source": [
    "# Confirm an image\n",
    "plt.imshow(df_mini.iloc[0]['image'], cmap='gray')"
   ]
  },
  {
   "cell_type": "markdown",
   "metadata": {},
   "source": [
    "### Check code before trying large scale"
   ]
  },
  {
   "cell_type": "code",
   "execution_count": null,
   "metadata": {},
   "outputs": [],
   "source": [
    "chunksize = 10\n",
    "folder = 'bw_pickles/'\n",
    "for i in range(0, df_mini.shape[0], chunksize):\n",
    "    chunk = df_mini.iloc[i:min((i+chunksize), df_mini.shape[0])].copy(deep=True)\n",
    "    chunk['image'] = chunk['media_url'].map(get_image)\n",
    "    try:\n",
    "        filename = folder + 'bw_mini_' + str(i) + '.gzde'\n",
    "        chunk.to_pickle(filename, compression='gzip')\n",
    "    except:\n",
    "        print(str(i) + 'failed')"
   ]
  },
  {
   "cell_type": "code",
   "execution_count": null,
   "metadata": {},
   "outputs": [],
   "source": [
    "df_test = pd.read_pickle('bw_pickles/bw_mini_10.gzde', compression='gzip')"
   ]
  },
  {
   "cell_type": "code",
   "execution_count": null,
   "metadata": {},
   "outputs": [],
   "source": [
    "df_test.head()"
   ]
  },
  {
   "cell_type": "markdown",
   "metadata": {},
   "source": [
    "## Large scale "
   ]
  },
  {
   "cell_type": "code",
   "execution_count": 3,
   "metadata": {},
   "outputs": [],
   "source": [
    "# If restarting kernel, read in the csv with just the selected \n",
    "# indices.  Not necessary if starting from beginning.\n",
    "df_subset = pd.read_csv('selected_subset.csv', index_col=0)\n",
    "#df_subset = df_subset.re"
   ]
  },
  {
   "cell_type": "code",
   "execution_count": 4,
   "metadata": {},
   "outputs": [
    {
     "data": {
      "text/html": [
       "<div>\n",
       "<style scoped>\n",
       "    .dataframe tbody tr th:only-of-type {\n",
       "        vertical-align: middle;\n",
       "    }\n",
       "\n",
       "    .dataframe tbody tr th {\n",
       "        vertical-align: top;\n",
       "    }\n",
       "\n",
       "    .dataframe thead th {\n",
       "        text-align: right;\n",
       "    }\n",
       "</style>\n",
       "<table border=\"1\" class=\"dataframe\">\n",
       "  <thead>\n",
       "    <tr style=\"text-align: right;\">\n",
       "      <th></th>\n",
       "      <th>caseid</th>\n",
       "      <th>opened</th>\n",
       "      <th>closed</th>\n",
       "      <th>updated</th>\n",
       "      <th>status</th>\n",
       "      <th>status_notes</th>\n",
       "      <th>responsible_agency</th>\n",
       "      <th>category</th>\n",
       "      <th>request_type</th>\n",
       "      <th>request_details</th>\n",
       "      <th>...</th>\n",
       "      <th>supervisor_district</th>\n",
       "      <th>neighborhood</th>\n",
       "      <th>police_district</th>\n",
       "      <th>latitude</th>\n",
       "      <th>longitude</th>\n",
       "      <th>point</th>\n",
       "      <th>source</th>\n",
       "      <th>media_url</th>\n",
       "      <th>year</th>\n",
       "      <th>month</th>\n",
       "    </tr>\n",
       "  </thead>\n",
       "  <tbody>\n",
       "    <tr>\n",
       "      <th>0</th>\n",
       "      <td>7228536</td>\n",
       "      <td>2017-06-06 07:31:38</td>\n",
       "      <td>06/10/2017 12:26:23 PM</td>\n",
       "      <td>06/10/2017 12:26:23 PM</td>\n",
       "      <td>Closed</td>\n",
       "      <td>SES Graffiti Crew  - Paint - Box - Sub Panel -...</td>\n",
       "      <td>DPW Ops Queue</td>\n",
       "      <td>Graffiti</td>\n",
       "      <td>Graffiti on Signal_box</td>\n",
       "      <td>Signal_box - Not_Offensive</td>\n",
       "      <td>...</td>\n",
       "      <td>6.0</td>\n",
       "      <td>South of Market</td>\n",
       "      <td>SOUTHERN</td>\n",
       "      <td>37.774735</td>\n",
       "      <td>-122.400620</td>\n",
       "      <td>(37.7747345, -122.40061951)</td>\n",
       "      <td>Mobile/Open311</td>\n",
       "      <td>http://mobile311.sfgov.org/reports/7228536/photos</td>\n",
       "      <td>2017</td>\n",
       "      <td>6</td>\n",
       "    </tr>\n",
       "    <tr>\n",
       "      <th>1</th>\n",
       "      <td>9848318</td>\n",
       "      <td>2018-11-25 13:15:00</td>\n",
       "      <td>11/25/2018 02:04:15 PM</td>\n",
       "      <td>11/25/2018 02:04:15 PM</td>\n",
       "      <td>Closed</td>\n",
       "      <td>Officer responded to request under CAD # 18329...</td>\n",
       "      <td>Parking Enforcement Dispatch Queue</td>\n",
       "      <td>Parking Enforcement</td>\n",
       "      <td>Other_Illegal_Parking</td>\n",
       "      <td>Silver - Civic - 5xcs051</td>\n",
       "      <td>...</td>\n",
       "      <td>6.0</td>\n",
       "      <td>Tenderloin</td>\n",
       "      <td>TENDERLOIN</td>\n",
       "      <td>37.783645</td>\n",
       "      <td>-122.410763</td>\n",
       "      <td>(37.78364452, -122.41076323)</td>\n",
       "      <td>Mobile/Open311</td>\n",
       "      <td>http://mobile311.sfgov.org/reports/9848318/photos</td>\n",
       "      <td>2018</td>\n",
       "      <td>11</td>\n",
       "    </tr>\n",
       "    <tr>\n",
       "      <th>2</th>\n",
       "      <td>9849482</td>\n",
       "      <td>2018-11-25 19:32:40</td>\n",
       "      <td>02/27/2019 09:30:07 PM</td>\n",
       "      <td>02/27/2019 09:30:07 PM</td>\n",
       "      <td>Closed</td>\n",
       "      <td>Per process - cases are closed 10 days after a...</td>\n",
       "      <td>Clear Channel - Transit Queue</td>\n",
       "      <td>Street and Sidewalk Cleaning</td>\n",
       "      <td>Transit_shelter_platform</td>\n",
       "      <td>Transit_shelter_platform</td>\n",
       "      <td>...</td>\n",
       "      <td>6.0</td>\n",
       "      <td>Rincon Hill</td>\n",
       "      <td>SOUTHERN</td>\n",
       "      <td>37.785531</td>\n",
       "      <td>-122.396656</td>\n",
       "      <td>(37.7855311, -122.3966557)</td>\n",
       "      <td>Mobile/Open311</td>\n",
       "      <td>http://mobile311.sfgov.org/reports/9849482/photos</td>\n",
       "      <td>2018</td>\n",
       "      <td>11</td>\n",
       "    </tr>\n",
       "    <tr>\n",
       "      <th>3</th>\n",
       "      <td>9681555</td>\n",
       "      <td>2018-10-16 17:25:00</td>\n",
       "      <td>10/20/2018 04:24:00 PM</td>\n",
       "      <td>10/20/2018 04:24:00 PM</td>\n",
       "      <td>Closed</td>\n",
       "      <td>NaN</td>\n",
       "      <td>DPW Ops Queue</td>\n",
       "      <td>Graffiti</td>\n",
       "      <td>Graffiti on Sidewalk_in_front_of_property</td>\n",
       "      <td>Sidewalk_in_front_of_property - Not_Offensive</td>\n",
       "      <td>...</td>\n",
       "      <td>8.0</td>\n",
       "      <td>Duboce Triangle</td>\n",
       "      <td>PARK</td>\n",
       "      <td>37.766496</td>\n",
       "      <td>-122.431225</td>\n",
       "      <td>(37.76649554, -122.43122539)</td>\n",
       "      <td>Mobile/Open311</td>\n",
       "      <td>http://mobile311.sfgov.org/reports/9681555/photos</td>\n",
       "      <td>2018</td>\n",
       "      <td>10</td>\n",
       "    </tr>\n",
       "    <tr>\n",
       "      <th>4</th>\n",
       "      <td>9253531</td>\n",
       "      <td>2018-07-11 14:21:09</td>\n",
       "      <td>07/12/2018 06:33:00 PM</td>\n",
       "      <td>07/12/2018 06:33:00 PM</td>\n",
       "      <td>Closed</td>\n",
       "      <td>NaN</td>\n",
       "      <td>DPW Ops Queue</td>\n",
       "      <td>Litter Receptacles</td>\n",
       "      <td>Other_garbage_can_repair</td>\n",
       "      <td>NaN</td>\n",
       "      <td>...</td>\n",
       "      <td>4.0</td>\n",
       "      <td>Outer Sunset</td>\n",
       "      <td>TARAVAL</td>\n",
       "      <td>37.763896</td>\n",
       "      <td>-122.509486</td>\n",
       "      <td>(37.76389604, -122.50948554)</td>\n",
       "      <td>Mobile/Open311</td>\n",
       "      <td>http://mobile311.sfgov.org/reports/9253531/photos</td>\n",
       "      <td>2018</td>\n",
       "      <td>7</td>\n",
       "    </tr>\n",
       "  </tbody>\n",
       "</table>\n",
       "<p>5 rows × 22 columns</p>\n",
       "</div>"
      ],
      "text/plain": [
       "    caseid               opened                  closed  \\\n",
       "0  7228536  2017-06-06 07:31:38  06/10/2017 12:26:23 PM   \n",
       "1  9848318  2018-11-25 13:15:00  11/25/2018 02:04:15 PM   \n",
       "2  9849482  2018-11-25 19:32:40  02/27/2019 09:30:07 PM   \n",
       "3  9681555  2018-10-16 17:25:00  10/20/2018 04:24:00 PM   \n",
       "4  9253531  2018-07-11 14:21:09  07/12/2018 06:33:00 PM   \n",
       "\n",
       "                  updated  status  \\\n",
       "0  06/10/2017 12:26:23 PM  Closed   \n",
       "1  11/25/2018 02:04:15 PM  Closed   \n",
       "2  02/27/2019 09:30:07 PM  Closed   \n",
       "3  10/20/2018 04:24:00 PM  Closed   \n",
       "4  07/12/2018 06:33:00 PM  Closed   \n",
       "\n",
       "                                        status_notes  \\\n",
       "0  SES Graffiti Crew  - Paint - Box - Sub Panel -...   \n",
       "1  Officer responded to request under CAD # 18329...   \n",
       "2  Per process - cases are closed 10 days after a...   \n",
       "3                                                NaN   \n",
       "4                                                NaN   \n",
       "\n",
       "                   responsible_agency                      category  \\\n",
       "0                       DPW Ops Queue                      Graffiti   \n",
       "1  Parking Enforcement Dispatch Queue           Parking Enforcement   \n",
       "2       Clear Channel - Transit Queue  Street and Sidewalk Cleaning   \n",
       "3                       DPW Ops Queue                      Graffiti   \n",
       "4                       DPW Ops Queue            Litter Receptacles   \n",
       "\n",
       "                                request_type  \\\n",
       "0                     Graffiti on Signal_box   \n",
       "1                      Other_Illegal_Parking   \n",
       "2                   Transit_shelter_platform   \n",
       "3  Graffiti on Sidewalk_in_front_of_property   \n",
       "4                   Other_garbage_can_repair   \n",
       "\n",
       "                                 request_details  ... supervisor_district  \\\n",
       "0                     Signal_box - Not_Offensive  ...                 6.0   \n",
       "1                       Silver - Civic - 5xcs051  ...                 6.0   \n",
       "2                       Transit_shelter_platform  ...                 6.0   \n",
       "3  Sidewalk_in_front_of_property - Not_Offensive  ...                 8.0   \n",
       "4                                            NaN  ...                 4.0   \n",
       "\n",
       "      neighborhood  police_district   latitude   longitude  \\\n",
       "0  South of Market         SOUTHERN  37.774735 -122.400620   \n",
       "1       Tenderloin       TENDERLOIN  37.783645 -122.410763   \n",
       "2      Rincon Hill         SOUTHERN  37.785531 -122.396656   \n",
       "3  Duboce Triangle             PARK  37.766496 -122.431225   \n",
       "4     Outer Sunset          TARAVAL  37.763896 -122.509486   \n",
       "\n",
       "                          point          source  \\\n",
       "0   (37.7747345, -122.40061951)  Mobile/Open311   \n",
       "1  (37.78364452, -122.41076323)  Mobile/Open311   \n",
       "2    (37.7855311, -122.3966557)  Mobile/Open311   \n",
       "3  (37.76649554, -122.43122539)  Mobile/Open311   \n",
       "4  (37.76389604, -122.50948554)  Mobile/Open311   \n",
       "\n",
       "                                           media_url  year month  \n",
       "0  http://mobile311.sfgov.org/reports/7228536/photos  2017     6  \n",
       "1  http://mobile311.sfgov.org/reports/9848318/photos  2018    11  \n",
       "2  http://mobile311.sfgov.org/reports/9849482/photos  2018    11  \n",
       "3  http://mobile311.sfgov.org/reports/9681555/photos  2018    10  \n",
       "4  http://mobile311.sfgov.org/reports/9253531/photos  2018     7  \n",
       "\n",
       "[5 rows x 22 columns]"
      ]
     },
     "execution_count": 4,
     "metadata": {},
     "output_type": "execute_result"
    }
   ],
   "source": [
    "df_subset.head()"
   ]
  },
  {
   "cell_type": "code",
   "execution_count": 5,
   "metadata": {},
   "outputs": [],
   "source": [
    "chunksize = 1000\n",
    "folder = 'bw_pickles/'\n",
    "total_size = 120000\n",
    "\n",
    "for i in range(85000, total_size, chunksize):\n",
    "    chunk = df_subset.iloc[i:min((i+chunksize), total_size)].copy(deep=True)\n",
    "    chunk['image'] = chunk['media_url'].map(get_image)\n",
    "    try:\n",
    "        filename = folder + 'bw_' + str(i) + '.gzde'\n",
    "        chunk.to_pickle(filename, compression='gzip')\n",
    "    except:\n",
    "        print(str(i) + 'failed')"
   ]
  },
  {
   "cell_type": "code",
   "execution_count": null,
   "metadata": {},
   "outputs": [],
   "source": [
    "len(train_index)"
   ]
  },
  {
   "cell_type": "code",
   "execution_count": null,
   "metadata": {},
   "outputs": [],
   "source": []
  }
 ],
 "metadata": {
  "kernelspec": {
   "display_name": "Python 3",
   "language": "python",
   "name": "python3"
  },
  "language_info": {
   "codemirror_mode": {
    "name": "ipython",
    "version": 3
   },
   "file_extension": ".py",
   "mimetype": "text/x-python",
   "name": "python",
   "nbconvert_exporter": "python",
   "pygments_lexer": "ipython3",
   "version": "3.7.0"
  }
 },
 "nbformat": 4,
 "nbformat_minor": 2
}
